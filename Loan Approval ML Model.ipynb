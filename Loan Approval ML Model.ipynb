{
 "cells": [
  {
   "cell_type": "code",
   "execution_count": 1,
   "id": "1f27360b",
   "metadata": {},
   "outputs": [],
   "source": [
    "import pandas as pd \n",
    "import numpy as np \n",
    "import seaborn as sns\n",
    "import matplotlib.pyplot as plt"
   ]
  },
  {
   "cell_type": "code",
   "execution_count": 2,
   "id": "04def756",
   "metadata": {},
   "outputs": [],
   "source": [
    "from sklearn.metrics import precision_score,confusion_matrix,classification_report,accuracy_score\n",
    "from sklearn.impute import KNNImputer\n",
    "from sklearn.model_selection import train_test_split\n",
    "from sklearn.neighbors import KNeighborsClassifier\n",
    "from sklearn.ensemble import RandomForestClassifier,VotingClassifier,GradientBoostingClassifier\n",
    "from sklearn.linear_model import LogisticRegression\n",
    "from sklearn.pipeline import Pipeline\n",
    "from sklearn.feature_selection import SelectFromModel"
   ]
  },
  {
   "cell_type": "code",
   "execution_count": 3,
   "id": "08e6c2ba",
   "metadata": {},
   "outputs": [],
   "source": [
    "# loading the data\n",
    "data = pd.read_csv('Loan Approval.csv')"
   ]
  },
  {
   "cell_type": "code",
   "execution_count": 4,
   "id": "908e898a",
   "metadata": {},
   "outputs": [],
   "source": [
    "# coping data\n",
    "df=data.copy()"
   ]
  },
  {
   "cell_type": "code",
   "execution_count": 5,
   "id": "51f6ac47",
   "metadata": {},
   "outputs": [],
   "source": [
    "# define features and target\n",
    "x=df.drop([\"Loan_ID\",\"Loan_Status\"],axis=1)\n",
    "y=df[\"Loan_Status\"]\n",
    "\n",
    "# split the data into train and test sets\n",
    "from sklearn.model_selection import train_test_split\n",
    "train_x,test_x,train_y,test_y = train_test_split(x,y,test_size=0.2,random_state=0)"
   ]
  },
  {
   "cell_type": "markdown",
   "id": "6d4d6746",
   "metadata": {},
   "source": [
    "EDA"
   ]
  },
  {
   "cell_type": "code",
   "execution_count": 6,
   "id": "bec5c3fd",
   "metadata": {},
   "outputs": [
    {
     "data": {
      "text/html": [
       "<div>\n",
       "<style scoped>\n",
       "    .dataframe tbody tr th:only-of-type {\n",
       "        vertical-align: middle;\n",
       "    }\n",
       "\n",
       "    .dataframe tbody tr th {\n",
       "        vertical-align: top;\n",
       "    }\n",
       "\n",
       "    .dataframe thead th {\n",
       "        text-align: right;\n",
       "    }\n",
       "</style>\n",
       "<table border=\"1\" class=\"dataframe\">\n",
       "  <thead>\n",
       "    <tr style=\"text-align: right;\">\n",
       "      <th></th>\n",
       "      <th>Gender</th>\n",
       "      <th>Married</th>\n",
       "      <th>Dependents</th>\n",
       "      <th>Education</th>\n",
       "      <th>Self_Employed</th>\n",
       "      <th>ApplicantIncome</th>\n",
       "      <th>CoapplicantIncome</th>\n",
       "      <th>LoanAmount</th>\n",
       "      <th>Loan_Amount_Term</th>\n",
       "      <th>Credit_History</th>\n",
       "      <th>Property_Area</th>\n",
       "    </tr>\n",
       "  </thead>\n",
       "  <tbody>\n",
       "    <tr>\n",
       "      <th>90</th>\n",
       "      <td>Male</td>\n",
       "      <td>Yes</td>\n",
       "      <td>0</td>\n",
       "      <td>Graduate</td>\n",
       "      <td>No</td>\n",
       "      <td>2958</td>\n",
       "      <td>2900.0</td>\n",
       "      <td>131.0</td>\n",
       "      <td>360.0</td>\n",
       "      <td>1.0</td>\n",
       "      <td>Semiurban</td>\n",
       "    </tr>\n",
       "    <tr>\n",
       "      <th>533</th>\n",
       "      <td>Male</td>\n",
       "      <td>No</td>\n",
       "      <td>1</td>\n",
       "      <td>Graduate</td>\n",
       "      <td>No</td>\n",
       "      <td>11250</td>\n",
       "      <td>0.0</td>\n",
       "      <td>196.0</td>\n",
       "      <td>360.0</td>\n",
       "      <td>NaN</td>\n",
       "      <td>Semiurban</td>\n",
       "    </tr>\n",
       "    <tr>\n",
       "      <th>452</th>\n",
       "      <td>Male</td>\n",
       "      <td>Yes</td>\n",
       "      <td>0</td>\n",
       "      <td>Graduate</td>\n",
       "      <td>No</td>\n",
       "      <td>3948</td>\n",
       "      <td>1733.0</td>\n",
       "      <td>149.0</td>\n",
       "      <td>360.0</td>\n",
       "      <td>0.0</td>\n",
       "      <td>Rural</td>\n",
       "    </tr>\n",
       "    <tr>\n",
       "      <th>355</th>\n",
       "      <td>Female</td>\n",
       "      <td>No</td>\n",
       "      <td>NaN</td>\n",
       "      <td>Graduate</td>\n",
       "      <td>No</td>\n",
       "      <td>3813</td>\n",
       "      <td>0.0</td>\n",
       "      <td>116.0</td>\n",
       "      <td>180.0</td>\n",
       "      <td>1.0</td>\n",
       "      <td>Urban</td>\n",
       "    </tr>\n",
       "    <tr>\n",
       "      <th>266</th>\n",
       "      <td>Male</td>\n",
       "      <td>Yes</td>\n",
       "      <td>2</td>\n",
       "      <td>Graduate</td>\n",
       "      <td>No</td>\n",
       "      <td>4708</td>\n",
       "      <td>1387.0</td>\n",
       "      <td>150.0</td>\n",
       "      <td>360.0</td>\n",
       "      <td>1.0</td>\n",
       "      <td>Semiurban</td>\n",
       "    </tr>\n",
       "  </tbody>\n",
       "</table>\n",
       "</div>"
      ],
      "text/plain": [
       "     Gender Married Dependents Education Self_Employed  ApplicantIncome  \\\n",
       "90     Male     Yes          0  Graduate            No             2958   \n",
       "533    Male      No          1  Graduate            No            11250   \n",
       "452    Male     Yes          0  Graduate            No             3948   \n",
       "355  Female      No        NaN  Graduate            No             3813   \n",
       "266    Male     Yes          2  Graduate            No             4708   \n",
       "\n",
       "     CoapplicantIncome  LoanAmount  Loan_Amount_Term  Credit_History  \\\n",
       "90              2900.0       131.0             360.0             1.0   \n",
       "533                0.0       196.0             360.0             NaN   \n",
       "452             1733.0       149.0             360.0             0.0   \n",
       "355                0.0       116.0             180.0             1.0   \n",
       "266             1387.0       150.0             360.0             1.0   \n",
       "\n",
       "    Property_Area  \n",
       "90      Semiurban  \n",
       "533     Semiurban  \n",
       "452         Rural  \n",
       "355         Urban  \n",
       "266     Semiurban  "
      ]
     },
     "execution_count": 6,
     "metadata": {},
     "output_type": "execute_result"
    }
   ],
   "source": [
    "#check for first 5 rows of the train data\n",
    "train_x.head()"
   ]
  },
  {
   "cell_type": "code",
   "execution_count": 7,
   "id": "0d9321e6",
   "metadata": {},
   "outputs": [
    {
     "name": "stdout",
     "output_type": "stream",
     "text": [
      "<class 'pandas.core.frame.DataFrame'>\n",
      "Int64Index: 491 entries, 90 to 559\n",
      "Data columns (total 11 columns):\n",
      " #   Column             Non-Null Count  Dtype  \n",
      "---  ------             --------------  -----  \n",
      " 0   Gender             479 non-null    object \n",
      " 1   Married            488 non-null    object \n",
      " 2   Dependents         476 non-null    object \n",
      " 3   Education          491 non-null    object \n",
      " 4   Self_Employed      463 non-null    object \n",
      " 5   ApplicantIncome    491 non-null    int64  \n",
      " 6   CoapplicantIncome  491 non-null    float64\n",
      " 7   LoanAmount         471 non-null    float64\n",
      " 8   Loan_Amount_Term   480 non-null    float64\n",
      " 9   Credit_History     450 non-null    float64\n",
      " 10  Property_Area      491 non-null    object \n",
      "dtypes: float64(4), int64(1), object(6)\n",
      "memory usage: 46.0+ KB\n"
     ]
    }
   ],
   "source": [
    "#check columns informations\n",
    "train_x.info()"
   ]
  },
  {
   "cell_type": "code",
   "execution_count": 8,
   "id": "dea348bd",
   "metadata": {
    "scrolled": true
   },
   "outputs": [
    {
     "data": {
      "text/html": [
       "<div>\n",
       "<style scoped>\n",
       "    .dataframe tbody tr th:only-of-type {\n",
       "        vertical-align: middle;\n",
       "    }\n",
       "\n",
       "    .dataframe tbody tr th {\n",
       "        vertical-align: top;\n",
       "    }\n",
       "\n",
       "    .dataframe thead th {\n",
       "        text-align: right;\n",
       "    }\n",
       "</style>\n",
       "<table border=\"1\" class=\"dataframe\">\n",
       "  <thead>\n",
       "    <tr style=\"text-align: right;\">\n",
       "      <th></th>\n",
       "      <th>ApplicantIncome</th>\n",
       "      <th>CoapplicantIncome</th>\n",
       "      <th>LoanAmount</th>\n",
       "      <th>Loan_Amount_Term</th>\n",
       "      <th>Credit_History</th>\n",
       "    </tr>\n",
       "  </thead>\n",
       "  <tbody>\n",
       "    <tr>\n",
       "      <th>count</th>\n",
       "      <td>491.000000</td>\n",
       "      <td>491.000000</td>\n",
       "      <td>471.000000</td>\n",
       "      <td>480.000000</td>\n",
       "      <td>450.000000</td>\n",
       "    </tr>\n",
       "    <tr>\n",
       "      <th>mean</th>\n",
       "      <td>5619.018330</td>\n",
       "      <td>1525.863381</td>\n",
       "      <td>147.324841</td>\n",
       "      <td>342.550000</td>\n",
       "      <td>0.837778</td>\n",
       "    </tr>\n",
       "    <tr>\n",
       "      <th>std</th>\n",
       "      <td>6659.021257</td>\n",
       "      <td>2787.398712</td>\n",
       "      <td>88.482349</td>\n",
       "      <td>63.953251</td>\n",
       "      <td>0.369065</td>\n",
       "    </tr>\n",
       "    <tr>\n",
       "      <th>min</th>\n",
       "      <td>150.000000</td>\n",
       "      <td>0.000000</td>\n",
       "      <td>9.000000</td>\n",
       "      <td>36.000000</td>\n",
       "      <td>0.000000</td>\n",
       "    </tr>\n",
       "    <tr>\n",
       "      <th>25%</th>\n",
       "      <td>2932.000000</td>\n",
       "      <td>0.000000</td>\n",
       "      <td>100.000000</td>\n",
       "      <td>360.000000</td>\n",
       "      <td>1.000000</td>\n",
       "    </tr>\n",
       "    <tr>\n",
       "      <th>50%</th>\n",
       "      <td>3850.000000</td>\n",
       "      <td>997.000000</td>\n",
       "      <td>128.000000</td>\n",
       "      <td>360.000000</td>\n",
       "      <td>1.000000</td>\n",
       "    </tr>\n",
       "    <tr>\n",
       "      <th>75%</th>\n",
       "      <td>5763.000000</td>\n",
       "      <td>2167.500000</td>\n",
       "      <td>165.500000</td>\n",
       "      <td>360.000000</td>\n",
       "      <td>1.000000</td>\n",
       "    </tr>\n",
       "    <tr>\n",
       "      <th>max</th>\n",
       "      <td>81000.000000</td>\n",
       "      <td>41667.000000</td>\n",
       "      <td>700.000000</td>\n",
       "      <td>480.000000</td>\n",
       "      <td>1.000000</td>\n",
       "    </tr>\n",
       "  </tbody>\n",
       "</table>\n",
       "</div>"
      ],
      "text/plain": [
       "       ApplicantIncome  CoapplicantIncome  LoanAmount  Loan_Amount_Term  \\\n",
       "count       491.000000         491.000000  471.000000        480.000000   \n",
       "mean       5619.018330        1525.863381  147.324841        342.550000   \n",
       "std        6659.021257        2787.398712   88.482349         63.953251   \n",
       "min         150.000000           0.000000    9.000000         36.000000   \n",
       "25%        2932.000000           0.000000  100.000000        360.000000   \n",
       "50%        3850.000000         997.000000  128.000000        360.000000   \n",
       "75%        5763.000000        2167.500000  165.500000        360.000000   \n",
       "max       81000.000000       41667.000000  700.000000        480.000000   \n",
       "\n",
       "       Credit_History  \n",
       "count      450.000000  \n",
       "mean         0.837778  \n",
       "std          0.369065  \n",
       "min          0.000000  \n",
       "25%          1.000000  \n",
       "50%          1.000000  \n",
       "75%          1.000000  \n",
       "max          1.000000  "
      ]
     },
     "execution_count": 8,
     "metadata": {},
     "output_type": "execute_result"
    }
   ],
   "source": [
    "#check basic informations of numeric columns\n",
    "train_x.describe()"
   ]
  },
  {
   "cell_type": "markdown",
   "id": "caa9abc6",
   "metadata": {},
   "source": [
    "we can identify some right skewnees in the continuous  columns "
   ]
  },
  {
   "cell_type": "code",
   "execution_count": 9,
   "id": "8af948ff",
   "metadata": {},
   "outputs": [
    {
     "data": {
      "text/plain": [
       "Gender                 0\n",
       "Married                0\n",
       "Dependents             0\n",
       "Education              0\n",
       "Self_Employed          0\n",
       "ApplicantIncome        0\n",
       "CoapplicantIncome    228\n",
       "LoanAmount             0\n",
       "Loan_Amount_Term       0\n",
       "Credit_History        73\n",
       "Property_Area          0\n",
       "dtype: int64"
      ]
     },
     "execution_count": 9,
     "metadata": {},
     "output_type": "execute_result"
    }
   ],
   "source": [
    "#check for any zero values to handle it if it's not reasonable\n",
    "train_x[train_x==0].count()"
   ]
  },
  {
   "cell_type": "code",
   "execution_count": 10,
   "id": "8dfc1212",
   "metadata": {},
   "outputs": [],
   "source": [
    "#check unique values of categorical columns and it's frequancy on our data"
   ]
  },
  {
   "cell_type": "code",
   "execution_count": 11,
   "id": "d07afbd0",
   "metadata": {},
   "outputs": [
    {
     "data": {
      "text/plain": [
       "Male      389\n",
       "Female     90\n",
       "Name: Gender, dtype: int64"
      ]
     },
     "execution_count": 11,
     "metadata": {},
     "output_type": "execute_result"
    }
   ],
   "source": [
    "train_x['Gender'].value_counts()"
   ]
  },
  {
   "cell_type": "code",
   "execution_count": 12,
   "id": "1a9c3f7e",
   "metadata": {},
   "outputs": [
    {
     "data": {
      "text/plain": [
       "Yes    323\n",
       "No     165\n",
       "Name: Married, dtype: int64"
      ]
     },
     "execution_count": 12,
     "metadata": {},
     "output_type": "execute_result"
    }
   ],
   "source": [
    "train_x['Married'].value_counts()"
   ]
  },
  {
   "cell_type": "code",
   "execution_count": 13,
   "id": "40533e9f",
   "metadata": {},
   "outputs": [
    {
     "data": {
      "text/plain": [
       "No     394\n",
       "Yes     69\n",
       "Name: Self_Employed, dtype: int64"
      ]
     },
     "execution_count": 13,
     "metadata": {},
     "output_type": "execute_result"
    }
   ],
   "source": [
    "train_x['Self_Employed'].value_counts()"
   ]
  },
  {
   "cell_type": "code",
   "execution_count": 14,
   "id": "a8025561",
   "metadata": {},
   "outputs": [
    {
     "data": {
      "text/plain": [
       "Graduate        383\n",
       "Not Graduate    108\n",
       "Name: Education, dtype: int64"
      ]
     },
     "execution_count": 14,
     "metadata": {},
     "output_type": "execute_result"
    }
   ],
   "source": [
    "train_x['Education'].value_counts()"
   ]
  },
  {
   "cell_type": "code",
   "execution_count": 15,
   "id": "db646efa",
   "metadata": {},
   "outputs": [
    {
     "data": {
      "text/plain": [
       "0     264\n",
       "1      86\n",
       "2      85\n",
       "3+     41\n",
       "Name: Dependents, dtype: int64"
      ]
     },
     "execution_count": 15,
     "metadata": {},
     "output_type": "execute_result"
    }
   ],
   "source": [
    "train_x['Dependents'].value_counts()"
   ]
  },
  {
   "cell_type": "code",
   "execution_count": 16,
   "id": "d7f9659e",
   "metadata": {
    "scrolled": true
   },
   "outputs": [
    {
     "data": {
      "text/plain": [
       "Semiurban    185\n",
       "Urban        163\n",
       "Rural        143\n",
       "Name: Property_Area, dtype: int64"
      ]
     },
     "execution_count": 16,
     "metadata": {},
     "output_type": "execute_result"
    }
   ],
   "source": [
    "train_x['Property_Area'].value_counts()"
   ]
  },
  {
   "cell_type": "code",
   "execution_count": 17,
   "id": "91f400a2",
   "metadata": {},
   "outputs": [
    {
     "data": {
      "text/plain": [
       "360.0    410\n",
       "180.0     34\n",
       "480.0     12\n",
       "300.0     11\n",
       "240.0      4\n",
       "84.0       3\n",
       "60.0       2\n",
       "36.0       2\n",
       "120.0      2\n",
       "Name: Loan_Amount_Term, dtype: int64"
      ]
     },
     "execution_count": 17,
     "metadata": {},
     "output_type": "execute_result"
    }
   ],
   "source": [
    "train_x['Loan_Amount_Term'].value_counts()"
   ]
  },
  {
   "cell_type": "code",
   "execution_count": 18,
   "id": "abfe8b60",
   "metadata": {
    "scrolled": false
   },
   "outputs": [
    {
     "data": {
      "text/plain": [
       "1.0    377\n",
       "0.0     73\n",
       "Name: Credit_History, dtype: int64"
      ]
     },
     "execution_count": 18,
     "metadata": {},
     "output_type": "execute_result"
    }
   ],
   "source": [
    "train_x['Credit_History'].value_counts()"
   ]
  },
  {
   "cell_type": "markdown",
   "id": "40f94496",
   "metadata": {},
   "source": [
    "from the previous EDA we confirm that our data have impalanced classes sow we will use models that can deal with this like random forest for example "
   ]
  },
  {
   "cell_type": "code",
   "execution_count": 19,
   "id": "6fb72a7a",
   "metadata": {},
   "outputs": [],
   "source": [
    "#check the distribution of the cont data "
   ]
  },
  {
   "cell_type": "code",
   "execution_count": 20,
   "id": "8df55146",
   "metadata": {
    "scrolled": true
   },
   "outputs": [
    {
     "data": {
      "text/plain": [
       "<Axes: xlabel='ApplicantIncome', ylabel='Count'>"
      ]
     },
     "execution_count": 20,
     "metadata": {},
     "output_type": "execute_result"
    },
    {
     "data": {
      "image/png": "[encoded data removed]",
      "text/plain": [
       "<Figure size 600x300 with 1 Axes>"
      ]
     },
     "metadata": {},
     "output_type": "display_data"
    }
   ],
   "source": [
    "fig=plt.figure(figsize=(6,3))\n",
    "sns.histplot(train_x['ApplicantIncome'],kde=True)"
   ]
  },
  {
   "cell_type": "code",
   "execution_count": 21,
   "id": "635c524f",
   "metadata": {},
   "outputs": [
    {
     "data": {
      "text/plain": [
       "<Axes: xlabel='CoapplicantIncome', ylabel='Count'>"
      ]
     },
     "execution_count": 21,
     "metadata": {},
     "output_type": "execute_result"
    },
    {
     "data": {
      "image/png": "[encoded data removed]",
      "text/plain": [
       "<Figure size 600x300 with 1 Axes>"
      ]
     },
     "metadata": {},
     "output_type": "display_data"
    }
   ],
   "source": [
    "fig=plt.figure(figsize=(6,3))\n",
    "sns.histplot(train_x['CoapplicantIncome'],kde=True)"
   ]
  },
  {
   "cell_type": "code",
   "execution_count": 22,
   "id": "c74a6aaa",
   "metadata": {},
   "outputs": [
    {
     "data": {
      "text/plain": [
       "<Axes: xlabel='LoanAmount', ylabel='Count'>"
      ]
     },
     "execution_count": 22,
     "metadata": {},
     "output_type": "execute_result"
    },
    {
     "data": {
      "image/png": "[encoded data removed]",
      "text/plain": [
       "<Figure size 600x300 with 1 Axes>"
      ]
     },
     "metadata": {},
     "output_type": "display_data"
    }
   ],
   "source": [
    "fig=plt.figure(figsize=(6,3))\n",
    "sns.histplot(train_x['LoanAmount'],kde=True)"
   ]
  },
  {
   "cell_type": "code",
   "execution_count": 23,
   "id": "ff1c9ab1",
   "metadata": {},
   "outputs": [
    {
     "data": {
      "text/plain": [
       "<Axes: >"
      ]
     },
     "execution_count": 23,
     "metadata": {},
     "output_type": "execute_result"
    },
    {
     "data": {
      "image/png": "[encoded data removed]",
      "text/plain": [
       "<Figure size 640x480 with 2 Axes>"
      ]
     },
     "metadata": {},
     "output_type": "display_data"
    }
   ],
   "source": [
    "#identify relationship between con columns with each other \n",
    "sns.heatmap(train_x[train_x.columns[5:8]].corr(),annot=True)"
   ]
  },
  {
   "cell_type": "markdown",
   "id": "3632869e",
   "metadata": {},
   "source": [
    "we can see that there a strong relationship between loan amount and applicantincome "
   ]
  },
  {
   "cell_type": "markdown",
   "id": "ed990983",
   "metadata": {},
   "source": [
    "data preparation and cleaning"
   ]
  },
  {
   "cell_type": "code",
   "execution_count": 24,
   "id": "67487610",
   "metadata": {},
   "outputs": [],
   "source": [
    "# as we can see the con data is right skewed so we will apply a sqrt transformation"
   ]
  },
  {
   "cell_type": "code",
   "execution_count": 25,
   "id": "45a3ec69",
   "metadata": {},
   "outputs": [],
   "source": [
    "# perform sqrt transformation on columns\n",
    "train_x[['LoanAmount','ApplicantIncome','CoapplicantIncome']]=np.sqrt(train_x[['LoanAmount','ApplicantIncome','CoapplicantIncome']])+1\n",
    "test_x[['LoanAmount','ApplicantIncome','CoapplicantIncome']]=np.sqrt(test_x[['LoanAmount','ApplicantIncome','CoapplicantIncome']])+1"
   ]
  },
  {
   "cell_type": "code",
   "execution_count": 26,
   "id": "c6db74e2",
   "metadata": {
    "scrolled": true
   },
   "outputs": [
    {
     "data": {
      "text/plain": [
       "<Axes: xlabel='LoanAmount', ylabel='Count'>"
      ]
     },
     "execution_count": 26,
     "metadata": {},
     "output_type": "execute_result"
    },
    {
     "data": {
      "image/png": "[encoded data removed]",
      "text/plain": [
       "<Figure size 600x300 with 1 Axes>"
      ]
     },
     "metadata": {},
     "output_type": "display_data"
    }
   ],
   "source": [
    "# constract a sample to see the diffrence \n",
    "fig=plt.figure(figsize=(6,3))\n",
    "sns.histplot(train_x['LoanAmount'],kde=True)"
   ]
  },
  {
   "cell_type": "markdown",
   "id": "e847de88",
   "metadata": {},
   "source": [
    "impute missing values"
   ]
  },
  {
   "cell_type": "code",
   "execution_count": 27,
   "id": "4dc84335",
   "metadata": {},
   "outputs": [
    {
     "data": {
      "text/plain": [
       "Gender               12\n",
       "Married               3\n",
       "Dependents           15\n",
       "Education             0\n",
       "Self_Employed        28\n",
       "ApplicantIncome       0\n",
       "CoapplicantIncome     0\n",
       "LoanAmount           20\n",
       "Loan_Amount_Term     11\n",
       "Credit_History       41\n",
       "Property_Area         0\n",
       "dtype: int64"
      ]
     },
     "execution_count": 27,
     "metadata": {},
     "output_type": "execute_result"
    }
   ],
   "source": [
    "train_x.isnull().sum()"
   ]
  },
  {
   "cell_type": "code",
   "execution_count": 28,
   "id": "123af4c0",
   "metadata": {},
   "outputs": [],
   "source": [
    "# encode non numeric values \n",
    "train_x['Married'].replace(['Yes','No'],[1,0], inplace=True)\n",
    "test_x['Married'].replace(['Yes','No'],[1,0], inplace=True)\n",
    "\n",
    "train_x['Gender'].replace(['Male','Female'],[1,0], inplace=True)\n",
    "test_x['Gender'].replace(['Male','Female'],[1,0], inplace=True)\n",
    "\n",
    "train_x['Dependents'].replace(['3+','2','1','0'],[3,2,1,0], inplace=True)\n",
    "test_x['Dependents'].replace(['3+','2','1','0'],[3,2,1,0], inplace=True)\n",
    "\n",
    "train_x['Education'].replace(['Graduate','Not Graduate'],[1,0], inplace=True)\n",
    "test_x['Education'].replace(['Graduate','Not Graduate'],[1,0], inplace=True)\n",
    "\n",
    "train_x['Self_Employed'].replace(['Yes','No'],[1,0], inplace=True)\n",
    "test_x['Self_Employed'].replace(['Yes','No'],[1,0], inplace=True)\n",
    "\n",
    "train_x['Property_Area'].replace(['Urban','Semiurban','Rural'],[2,1,0], inplace=True)\n",
    "test_x['Property_Area'].replace(['Urban','Semiurban','Rural'],[2,1,0], inplace=True)"
   ]
  },
  {
   "cell_type": "code",
   "execution_count": 29,
   "id": "00f7df91",
   "metadata": {
    "scrolled": true
   },
   "outputs": [],
   "source": [
    "# impute misssing data using knn imputer\n",
    "col=train_x.columns\n",
    "imputer = KNNImputer()\n",
    "train_x = imputer.fit_transform(train_x)\n",
    "test_x = imputer.fit_transform(test_x)"
   ]
  },
  {
   "cell_type": "code",
   "execution_count": 30,
   "id": "43cca89f",
   "metadata": {},
   "outputs": [],
   "source": [
    "#convert the numpy array into dataframe\n",
    "train_x = pd.DataFrame(train_x,columns=col)\n",
    "test_x = pd.DataFrame(test_x,columns=col)"
   ]
  },
  {
   "cell_type": "code",
   "execution_count": 31,
   "id": "f876cc15",
   "metadata": {
    "scrolled": false
   },
   "outputs": [
    {
     "data": {
      "text/plain": [
       "0.0    412\n",
       "1.0     69\n",
       "0.2      6\n",
       "0.4      3\n",
       "0.6      1\n",
       "Name: Self_Employed, dtype: int64"
      ]
     },
     "execution_count": 31,
     "metadata": {},
     "output_type": "execute_result"
    }
   ],
   "source": [
    "train_x['Self_Employed'].value_counts()"
   ]
  },
  {
   "cell_type": "code",
   "execution_count": 32,
   "id": "3a9e350e",
   "metadata": {},
   "outputs": [
    {
     "data": {
      "text/plain": [
       "1.0    325\n",
       "0.0    165\n",
       "0.4      1\n",
       "Name: Married, dtype: int64"
      ]
     },
     "execution_count": 32,
     "metadata": {},
     "output_type": "execute_result"
    }
   ],
   "source": [
    "train_x['Married'].value_counts()"
   ]
  },
  {
   "cell_type": "code",
   "execution_count": 33,
   "id": "1568bdf3",
   "metadata": {},
   "outputs": [
    {
     "data": {
      "text/plain": [
       "1.0    393\n",
       "0.0     90\n",
       "0.6      3\n",
       "0.4      3\n",
       "0.8      2\n",
       "Name: Gender, dtype: int64"
      ]
     },
     "execution_count": 33,
     "metadata": {},
     "output_type": "execute_result"
    }
   ],
   "source": [
    "train_x['Gender'].value_counts()"
   ]
  },
  {
   "cell_type": "code",
   "execution_count": 34,
   "id": "103e4cb9",
   "metadata": {
    "scrolled": true
   },
   "outputs": [
    {
     "data": {
      "text/plain": [
       "0.0    264\n",
       "1.0     88\n",
       "2.0     85\n",
       "3.0     41\n",
       "1.2      4\n",
       "0.6      3\n",
       "1.4      2\n",
       "0.4      2\n",
       "1.6      1\n",
       "1.8      1\n",
       "Name: Dependents, dtype: int64"
      ]
     },
     "execution_count": 34,
     "metadata": {},
     "output_type": "execute_result"
    }
   ],
   "source": [
    "train_x['Dependents'].value_counts()"
   ]
  },
  {
   "cell_type": "code",
   "execution_count": 35,
   "id": "774680e4",
   "metadata": {},
   "outputs": [
    {
     "data": {
      "text/plain": [
       "360.0    414\n",
       "180.0     34\n",
       "480.0     12\n",
       "300.0     11\n",
       "240.0      4\n",
       "84.0       3\n",
       "60.0       2\n",
       "324.0      2\n",
       "36.0       2\n",
       "120.0      2\n",
       "372.0      2\n",
       "312.0      1\n",
       "288.0      1\n",
       "348.0      1\n",
       "Name: Loan_Amount_Term, dtype: int64"
      ]
     },
     "execution_count": 35,
     "metadata": {},
     "output_type": "execute_result"
    }
   ],
   "source": [
    "train_x['Loan_Amount_Term'].value_counts()"
   ]
  },
  {
   "cell_type": "code",
   "execution_count": 36,
   "id": "d85491c5",
   "metadata": {},
   "outputs": [
    {
     "data": {
      "text/plain": [
       "1.0    390\n",
       "0.0     73\n",
       "0.8     17\n",
       "0.6     10\n",
       "0.4      1\n",
       "Name: Credit_History, dtype: int64"
      ]
     },
     "execution_count": 36,
     "metadata": {},
     "output_type": "execute_result"
    }
   ],
   "source": [
    "train_x['Credit_History'].value_counts()"
   ]
  },
  {
   "cell_type": "code",
   "execution_count": 37,
   "id": "ba1cf137",
   "metadata": {},
   "outputs": [],
   "source": [
    "# as we can see there are some values that should be handeled we will use a threshold of 0.5 in binary classes\n",
    "# and x.5 in more than 2 classes"
   ]
  },
  {
   "cell_type": "code",
   "execution_count": 38,
   "id": "5d3b1e41",
   "metadata": {},
   "outputs": [],
   "source": [
    "train_x['Self_Employed'] = train_x['Self_Employed'].apply(lambda x: 1 if x > 0.5 else 0)\n",
    "test_x['Self_Employed'] = test_x['Self_Employed'].apply(lambda x: 1 if x > 0.5 else 0)\n",
    "\n",
    "train_x['Married'] = train_x['Married'].apply(lambda x: 1 if x > 0.5 else 0)\n",
    "test_x['Married'] = test_x['Married'].apply(lambda x: 1 if x > 0.5 else 0)\n",
    "\n",
    "train_x['Gender'] = train_x['Gender'].apply(lambda x: 1 if x > 0.5 else 0)\n",
    "test_x['Gender'] = test_x['Gender'].apply(lambda x: 1 if x > 0.5 else 0)\n",
    "\n",
    "train_x['Dependents'] = train_x['Dependents'].apply(lambda x: 0 if x < 0.5 else (1 if x <= 1.5 else 2))\n",
    "test_x['Dependents'] = test_x['Dependents'].apply(lambda x: 0 if x < 0.5 else (1 if x <= 1.5 else 2))\n",
    "\n",
    "train_x['Credit_History'] = train_x['Credit_History'].apply(lambda x: 1 if x > 0.5 else 0)\n",
    "test_x['Credit_History'] = test_x['Credit_History'].apply(lambda x: 1 if x > 0.5 else 0)"
   ]
  },
  {
   "cell_type": "code",
   "execution_count": 39,
   "id": "c3623292",
   "metadata": {},
   "outputs": [],
   "source": [
    "# decode non numeric data again\n",
    "train_x['Married'].replace([1,0],['Yes','No'], inplace=True)\n",
    "test_x['Married'].replace([1,0],['Yes','No'], inplace=True)\n",
    "\n",
    "train_x['Gender'].replace([1,0],['Male','Female'], inplace=True)\n",
    "test_x['Gender'].replace([1,0],['Male','Female'], inplace=True)\n",
    "\n",
    "train_x['Dependents'].replace([3,2,1,0],['3+','2','1','0'], inplace=True)\n",
    "test_x['Dependents'].replace([3,2,1,0],['3+','2','1','0'], inplace=True)\n",
    "\n",
    "train_x['Education'].replace([1,0],['Graduate','Not Graduate'], inplace=True)\n",
    "test_x['Education'].replace([1,0],['Graduate','Not Graduate'], inplace=True)\n",
    "\n",
    "train_x['Self_Employed'].replace([1,0],['Yes','No'], inplace=True)\n",
    "test_x['Self_Employed'].replace([1,0],['Yes','No'], inplace=True)\n",
    "\n",
    "train_x['Property_Area'].replace([2,1,0],['Urban','Semiurban','Rural'], inplace=True)\n",
    "test_x['Property_Area'].replace([2,1,0],['Urban','Semiurban','Rural'], inplace=True)"
   ]
  },
  {
   "cell_type": "code",
   "execution_count": 40,
   "id": "ced830a6",
   "metadata": {
    "scrolled": true
   },
   "outputs": [
    {
     "data": {
      "text/plain": [
       "Gender               0\n",
       "Married              0\n",
       "Dependents           0\n",
       "Education            0\n",
       "Self_Employed        0\n",
       "ApplicantIncome      0\n",
       "CoapplicantIncome    0\n",
       "LoanAmount           0\n",
       "Loan_Amount_Term     0\n",
       "Credit_History       0\n",
       "Property_Area        0\n",
       "dtype: int64"
      ]
     },
     "execution_count": 40,
     "metadata": {},
     "output_type": "execute_result"
    }
   ],
   "source": [
    "train_x.isnull().sum()"
   ]
  },
  {
   "cell_type": "markdown",
   "id": "2101501d",
   "metadata": {},
   "source": [
    "loan amount term column has many values which will lead for more complexity so we will reduce the values by adding new category called other "
   ]
  },
  {
   "cell_type": "code",
   "execution_count": 41,
   "id": "2548d3b8",
   "metadata": {},
   "outputs": [],
   "source": [
    "train_x['Loan_Amount_Term'] = np.where((train_x['Loan_Amount_Term'] >= 0) & (train_x['Loan_Amount_Term'] <= 250),\n",
    "    180,train_x['Loan_Amount_Term'])\n",
    "test_x['Loan_Amount_Term'] = np.where((test_x['Loan_Amount_Term'] >= 0) & (test_x['Loan_Amount_Term'] <= 250),\n",
    "    180,test_x['Loan_Amount_Term'])\n",
    "\n",
    "train_x['Loan_Amount_Term'] = np.where((train_x['Loan_Amount_Term'] >= 251) & (train_x['Loan_Amount_Term'] <= 310),\n",
    "    300,train_x['Loan_Amount_Term'])\n",
    "test_x['Loan_Amount_Term'] = np.where((test_x['Loan_Amount_Term'] >= 251) & (test_x['Loan_Amount_Term'] <= 310),\n",
    "    300,test_x['Loan_Amount_Term'])\n",
    "\n",
    "train_x['Loan_Amount_Term'] = np.where((train_x['Loan_Amount_Term'] >= 311) & (train_x['Loan_Amount_Term'] <= 400),\n",
    "    360,train_x['Loan_Amount_Term'])\n",
    "test_x['Loan_Amount_Term'] = np.where((test_x['Loan_Amount_Term'] >= 311) & (test_x['Loan_Amount_Term'] <= 400),\n",
    "    360,test_x['Loan_Amount_Term'])\n",
    "\n",
    "train_x['Loan_Amount_Term']=np.where(train_x['Loan_Amount_Term'] > 400,480,train_x['Loan_Amount_Term'])\n",
    "test_x['Loan_Amount_Term']=np.where(test_x['Loan_Amount_Term'] > 400,480,test_x['Loan_Amount_Term'])"
   ]
  },
  {
   "cell_type": "code",
   "execution_count": 42,
   "id": "63975b06",
   "metadata": {},
   "outputs": [
    {
     "data": {
      "text/plain": [
       "360.0    420\n",
       "180.0     47\n",
       "480.0     12\n",
       "300.0     12\n",
       "Name: Loan_Amount_Term, dtype: int64"
      ]
     },
     "execution_count": 42,
     "metadata": {},
     "output_type": "execute_result"
    }
   ],
   "source": [
    "train_x['Loan_Amount_Term'].value_counts()"
   ]
  },
  {
   "cell_type": "code",
   "execution_count": 43,
   "id": "1e9b5a8f",
   "metadata": {},
   "outputs": [],
   "source": [
    "# apply one hot encoding on categorical data\n",
    "train_x=pd.get_dummies(train_x,columns=['Gender','Married','Dependents','Loan_Amount_Term','Credit_History',\n",
    "                                        'Education','Self_Employed','Property_Area'])\n",
    "test_x=pd.get_dummies(test_x,columns=['Gender','Married','Dependents','Loan_Amount_Term','Credit_History',\n",
    "                                        'Education','Self_Employed','Property_Area'])"
   ]
  },
  {
   "cell_type": "markdown",
   "id": "91f952af",
   "metadata": {},
   "source": [
    "applying lable encoding on the target "
   ]
  },
  {
   "cell_type": "code",
   "execution_count": 44,
   "id": "73999e37",
   "metadata": {
    "scrolled": false
   },
   "outputs": [],
   "source": [
    "train_y.replace(['Y','N'],[1,0],inplace=True)\n",
    "test_y.replace(['Y','N'],[1,0],inplace=True)"
   ]
  },
  {
   "cell_type": "code",
   "execution_count": 45,
   "id": "5511be87",
   "metadata": {
    "scrolled": true
   },
   "outputs": [
    {
     "data": {
      "text/plain": [
       "Loan_Status\n",
       "1              332\n",
       "0              159\n",
       "dtype: int64"
      ]
     },
     "execution_count": 45,
     "metadata": {},
     "output_type": "execute_result"
    }
   ],
   "source": [
    "train_y.value_counts()"
   ]
  },
  {
   "cell_type": "markdown",
   "id": "0b14859e",
   "metadata": {},
   "source": [
    "model selection"
   ]
  },
  {
   "cell_type": "code",
   "execution_count": 46,
   "id": "ccc183bf",
   "metadata": {},
   "outputs": [],
   "source": [
    "log_clf=LogisticRegression()\n",
    "gb_clf = GradientBoostingClassifier()\n",
    "rf = RandomForestClassifier()"
   ]
  },
  {
   "cell_type": "markdown",
   "id": "f2eacd1a",
   "metadata": {},
   "source": [
    "logistic regression"
   ]
  },
  {
   "cell_type": "code",
   "execution_count": 47,
   "id": "d002a109",
   "metadata": {
    "scrolled": true
   },
   "outputs": [
    {
     "name": "stdout",
     "output_type": "stream",
     "text": [
      "precision score on train data : 78.17745803357315\n",
      "precision score on test data : 83.01886792452831\n"
     ]
    },
    {
     "name": "stderr",
     "output_type": "stream",
     "text": [
      "C:\\Users\\maher\\anaconda3\\Lib\\site-packages\\sklearn\\utils\\validation.py:1184: DataConversionWarning: A column-vector y was passed when a 1d array was expected. Please change the shape of y to (n_samples, ), for example using ravel().\n",
      "  y = column_or_1d(y, warn=True)\n",
      "C:\\Users\\maher\\anaconda3\\Lib\\site-packages\\sklearn\\linear_model\\_logistic.py:460: ConvergenceWarning: lbfgs failed to converge (status=1):\n",
      "STOP: TOTAL NO. of ITERATIONS REACHED LIMIT.\n",
      "\n",
      "Increase the number of iterations (max_iter) or scale the data as shown in:\n",
      "    https://scikit-learn.org/stable/modules/preprocessing.html\n",
      "Please also refer to the documentation for alternative solver options:\n",
      "    https://scikit-learn.org/stable/modules/linear_model.html#logistic-regression\n",
      "  n_iter_i = _check_optimize_result(\n"
     ]
    }
   ],
   "source": [
    " log_clf.fit(train_x,train_y)\n",
    "y_train_pred = log_clf.predict(train_x)\n",
    "train_precision_score = precision_score(train_y, y_train_pred)\n",
    "\n",
    "y_test_pred = log_clf.predict(test_x)\n",
    "test_precision_score = precision_score(test_y, y_test_pred)\n",
    "\n",
    "print(f'precision score on train data : {train_precision_score * 100}')\n",
    "print(f'precision score on test data : {test_precision_score * 100}')"
   ]
  },
  {
   "cell_type": "markdown",
   "id": "58d302c8",
   "metadata": {},
   "source": [
    "random forrest"
   ]
  },
  {
   "cell_type": "code",
   "execution_count": 48,
   "id": "61dec97f",
   "metadata": {},
   "outputs": [
    {
     "name": "stdout",
     "output_type": "stream",
     "text": [
      "precision score on train data : 100.0\n",
      "precision score on test data : 81.63265306122449\n"
     ]
    },
    {
     "name": "stderr",
     "output_type": "stream",
     "text": [
      "C:\\Users\\maher\\anaconda3\\Lib\\site-packages\\sklearn\\base.py:1151: DataConversionWarning: A column-vector y was passed when a 1d array was expected. Please change the shape of y to (n_samples,), for example using ravel().\n",
      "  return fit_method(estimator, *args, **kwargs)\n"
     ]
    }
   ],
   "source": [
    " rf.fit(train_x,train_y)\n",
    "y_train_pred = rf.predict(train_x)\n",
    "train_precision_score = precision_score(train_y, y_train_pred)\n",
    "\n",
    "y_test_pred = rf.predict(test_x)\n",
    "test_precision_score = precision_score(test_y, y_test_pred)\n",
    "\n",
    "print(f'precision score on train data : {train_precision_score * 100}')\n",
    "print(f'precision score on test data : {test_precision_score * 100}')"
   ]
  },
  {
   "cell_type": "markdown",
   "id": "6133da99",
   "metadata": {},
   "source": [
    "gradient boosting"
   ]
  },
  {
   "cell_type": "code",
   "execution_count": 49,
   "id": "b0917c8b",
   "metadata": {
    "scrolled": true
   },
   "outputs": [
    {
     "name": "stdout",
     "output_type": "stream",
     "text": [
      "precision score on train data : 86.42297650130548\n",
      "precision score on test data : 84.84848484848484\n"
     ]
    },
    {
     "name": "stderr",
     "output_type": "stream",
     "text": [
      "C:\\Users\\maher\\anaconda3\\Lib\\site-packages\\sklearn\\ensemble\\_gb.py:424: DataConversionWarning: A column-vector y was passed when a 1d array was expected. Please change the shape of y to (n_samples, ), for example using ravel().\n",
      "  y = column_or_1d(y, warn=True)\n"
     ]
    }
   ],
   "source": [
    "gb_clf.fit(train_x,train_y)\n",
    "y_train_pred = gb_clf.predict(train_x)\n",
    "train_precision_score = precision_score(train_y, y_train_pred)\n",
    "\n",
    "y_test_pred = gb_clf.predict(test_x)\n",
    "test_precision_score = precision_score(test_y, y_test_pred)\n",
    "\n",
    "print(f'precision score on train data : {train_precision_score * 100}')\n",
    "print(f'precision score on test data : {test_precision_score * 100}')"
   ]
  },
  {
   "cell_type": "code",
   "execution_count": 50,
   "id": "29f61b6f",
   "metadata": {},
   "outputs": [],
   "source": [
    "#seems gradient boosting is most suitable , so let's see his confusion matrix "
   ]
  },
  {
   "cell_type": "code",
   "execution_count": 51,
   "id": "562a38cc",
   "metadata": {},
   "outputs": [
    {
     "name": "stdout",
     "output_type": "stream",
     "text": [
      "[[18 15]\n",
      " [ 6 84]]\n"
     ]
    }
   ],
   "source": [
    "cm = confusion_matrix(test_y, y_test_pred)\n",
    "print(cm)"
   ]
  },
  {
   "cell_type": "code",
   "execution_count": 52,
   "id": "e57d29a7",
   "metadata": {},
   "outputs": [
    {
     "name": "stdout",
     "output_type": "stream",
     "text": [
      "              precision    recall  f1-score   support\n",
      "\n",
      "           0       0.75      0.55      0.63        33\n",
      "           1       0.85      0.93      0.89        90\n",
      "\n",
      "    accuracy                           0.83       123\n",
      "   macro avg       0.80      0.74      0.76       123\n",
      "weighted avg       0.82      0.83      0.82       123\n",
      "\n"
     ]
    }
   ],
   "source": [
    "print(classification_report(test_y, y_test_pred))"
   ]
  }
 ],
 "metadata": {
  "kernelspec": {
   "display_name": "Python 3 (ipykernel)",
   "language": "python",
   "name": "python3"
  },
  "language_info": {
   "codemirror_mode": {
    "name": "ipython",
    "version": 3
   },
   "file_extension": ".py",
   "mimetype": "text/x-python",
   "name": "python",
   "nbconvert_exporter": "python",
   "pygments_lexer": "ipython3",
   "version": "3.11.4"
  },
  "varInspector": {
   "cols": {
    "lenName": 16,
    "lenType": 16,
    "lenVar": 40
   },
   "kernels_config": {
    "python": {
     "delete_cmd_postfix": "",
     "delete_cmd_prefix": "del ",
     "library": "var_list.py",
     "varRefreshCmd": "print(var_dic_list())"
    },
    "r": {
     "delete_cmd_postfix": ") ",
     "delete_cmd_prefix": "rm(",
     "library": "var_list.r",
     "varRefreshCmd": "cat(var_dic_list()) "
    }
   },
   "types_to_exclude": [
    "module",
    "function",
    "builtin_function_or_method",
    "instance",
    "_Feature"
   ],
   "window_display": false
  }
 },
 "nbformat": 4,
 "nbformat_minor": 5
}
